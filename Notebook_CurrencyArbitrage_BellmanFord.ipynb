{
 "cells": [
  {
   "cell_type": "code",
   "execution_count": 1,
   "metadata": {},
   "outputs": [
    {
     "name": "stderr",
     "output_type": "stream",
     "text": [
      "c:\\Users\\margaretm\\AppData\\Local\\Programs\\Python\\Python39\\lib\\site-packages\\numpy\\_distributor_init.py:30: UserWarning: loaded more than 1 DLL from .libs:\n",
      "c:\\Users\\margaretm\\AppData\\Local\\Programs\\Python\\Python39\\lib\\site-packages\\numpy\\.libs\\libopenblas.EL2C6PLE4ZYW3ECEVIV3OXXGRN2NRFM2.gfortran-win_amd64.dll\n",
      "c:\\Users\\margaretm\\AppData\\Local\\Programs\\Python\\Python39\\lib\\site-packages\\numpy\\.libs\\libopenblas64__v0.3.21-gcc_10_3_0.dll\n",
      "  warnings.warn(\"loaded more than 1 DLL from .libs:\"\n"
     ]
    }
   ],
   "source": [
    "#import packages\n",
    "import math\n",
    "from typing import Tuple, List\n",
    "from math import log\n",
    "import pandas as pd\n",
    "import numpy as np"
   ]
  },
  {
   "cell_type": "code",
   "execution_count": 2,
   "metadata": {},
   "outputs": [
    {
     "name": "stdout",
     "output_type": "stream",
     "text": [
      "  Currencies       KES      UGX       TZS\n",
      "0        KES   1.00000  27.5381  17.34020\n",
      "1        UGX   0.03641   1.0000   0.62328\n",
      "2        TZS  17.01690   0.6071   1.00000\n"
     ]
    }
   ],
   "source": [
    "#Import the currency Matrix\n",
    "df = pd.read_excel(\"Currencies_Matrix.xlsx\")\n",
    "print(df)\n",
    "#Drop the 1st column\n",
    "df_1 = df.iloc[:, 1:]\n",
    "# Extract currencies names\n",
    "currencies = list(df_1.columns)\n",
    "# Extract the rates\n",
    "rates = df_1[:].values"
   ]
  },
  {
   "cell_type": "code",
   "execution_count": 3,
   "metadata": {},
   "outputs": [],
   "source": [
    "#BELLMAN FORD ALGORITHM\n",
    "\n",
    "#Start by calculating the negative logs\n",
    "def negate_logarithm_convertor(graph: Tuple[Tuple[float]]) -> List[List[float]]:\n",
    "    \"\"\"log of each rate in graph and negate it\"\"\"\n",
    "    result = [[-log(edge) for edge in row] for row in graph]\n",
    "    return result\n",
    "\n",
    "#Calculate the arbitrage\n",
    "\n",
    "def arbitrage(currency_tuple: tuple, rates_matrix: Tuple[Tuple[float, ...]]):\n",
    "    ''' Calculates arbitrage situations and prints out the details of this calculations'''\n",
    "\n",
    "    trans_graph = negate_logarithm_convertor(rates_matrix)\n",
    "\n",
    "    # Pick any source vertex -- we can run Bellman-Ford from any vertex and get the right result\n",
    "\n",
    "    source = 0\n",
    "    n = len(trans_graph)\n",
    "    min_dist = [float('inf')] * n\n",
    "\n",
    "    pre = [-1] * n\n",
    "    \n",
    "    min_dist[source] = source\n",
    "\n",
    "    # 'Relax edges |V-1| times'\n",
    "    for _ in range(n-1):\n",
    "        for source_curr in range(n):\n",
    "            for dest_curr in range(n):\n",
    "                if min_dist[dest_curr] > min_dist[source_curr] + trans_graph[source_curr][dest_curr]:\n",
    "                    min_dist[dest_curr] = min_dist[source_curr] + trans_graph[source_curr][dest_curr]\n",
    "                    pre[dest_curr] = source_curr\n",
    "\n",
    "    # if we can still relax edges, then we have a negative cycle\n",
    "    for source_curr in range(n):\n",
    "        for dest_curr in range(n):\n",
    "            if min_dist[dest_curr] > min_dist[source_curr] + trans_graph[source_curr][dest_curr]:\n",
    "                # negative cycle exists, and use the predecessor chain to print the cycle\n",
    "                print_cycle = [dest_curr, source_curr]\n",
    "                # Start from the source and go backwards until you see the source vertex again or any vertex that already exists in print_cycle array\n",
    "                while pre[source_curr] not in  print_cycle:\n",
    "                    print_cycle.append(pre[source_curr])\n",
    "                    source_curr = pre[source_curr]\n",
    "                print_cycle.append(pre[source_curr])\n",
    "                arbi = ([currencies[p] for p in print_cycle[::-1]])\n",
    "    return arbi"
   ]
  },
  {
   "cell_type": "code",
   "execution_count": 4,
   "metadata": {},
   "outputs": [
    {
     "name": "stdout",
     "output_type": "stream",
     "text": [
      "Arbitrage Opportunity: \n",
      "\n",
      " KES --> TZS --> KES --> UGX\n"
     ]
    }
   ],
   "source": [
    "#Run the algorithm with data\n",
    "print(\"Arbitrage Opportunity: \\n\\n\", \" --> \" .join([p for p in arbitrage(currencies, rates)]))"
   ]
  },
  {
   "cell_type": "code",
   "execution_count": 5,
   "metadata": {},
   "outputs": [
    {
     "data": {
      "text/plain": [
       "[17.3402, 17.0169, 27.5381]"
      ]
     },
     "execution_count": 5,
     "metadata": {},
     "output_type": "execute_result"
    }
   ],
   "source": [
    "#CALCULATE AMOUNT GAINED USING ARBITRAGE OPPORTUNITY\n",
    "\n",
    "#Set the currency column to be index\n",
    "df_2= df.set_index([\"Currencies\"])\n",
    "#list of arbitrage opportunity\n",
    "arbiOppotunity = arbitrage(currencies, rates)\n",
    "\n",
    "#extract values from data\n",
    "list_1 = []\n",
    "for i in range(len(arbiOppotunity)-1):\n",
    "    list_1.append(df_2.loc[arbiOppotunity[i]][arbiOppotunity[i+1]])\n",
    "list_1"
   ]
  },
  {
   "cell_type": "code",
   "execution_count": 6,
   "metadata": {},
   "outputs": [],
   "source": [
    "#multiply function\n",
    "def multiplyList(myList):\n",
    "     \n",
    "    # Multiply elements one by one\n",
    "    result = 1\n",
    "    for x in myList:\n",
    "        result = result * x\n",
    "    return result"
   ]
  },
  {
   "cell_type": "code",
   "execution_count": 7,
   "metadata": {},
   "outputs": [
    {
     "name": "stdout",
     "output_type": "stream",
     "text": [
      "Amount gained using arbitrage :  8125.844770671378\n"
     ]
    }
   ],
   "source": [
    "#Amount gained using arbitrage opportunity\n",
    "print(\"Amount gained using arbitrage : \", multiplyList(list_1))"
   ]
  }
 ],
 "metadata": {
  "kernelspec": {
   "display_name": "Python 3",
   "language": "python",
   "name": "python3"
  },
  "language_info": {
   "codemirror_mode": {
    "name": "ipython",
    "version": 3
   },
   "file_extension": ".py",
   "mimetype": "text/x-python",
   "name": "python",
   "nbconvert_exporter": "python",
   "pygments_lexer": "ipython3",
   "version": "3.9.7"
  },
  "orig_nbformat": 4
 },
 "nbformat": 4,
 "nbformat_minor": 2
}
